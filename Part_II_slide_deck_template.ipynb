{
 "cells": [
  {
   "cell_type": "markdown",
   "metadata": {
    "slideshow": {
     "slide_type": "slide"
    }
   },
   "source": [
    "# Part II - (The determinant of interest rate and loan amount from Prosper Loan Data Analysis)\n",
    "## by (Mutholib Yusira)"
   ]
  },
  {
   "cell_type": "markdown",
   "metadata": {
    "slideshow": {
     "slide_type": "slide"
    }
   },
   "source": [
    "## Investigation Overview\n",
    "\n",
    "\n",
    "> Prosper is a money lending platform which helps in reducing the distance between the borrower and lender(peer-to-peer lending process). The objective of this work is to look at the main determinants of loans and borrowers interest rate that could be used to predict their evolution. The main focus was on several borrowers information, such as income, occupation, interest rate ....\n",
    "\n",
    "\n",
    "## Dataset Overview\n",
    "\n",
    "> The Prosper loan dataset comprises of 113937 loan entries with 81 attributes on each loan, including loan amount, borrower rate (or interest rate), current loan status, borrower income, and many others, from the year 2009-2014. There are two main categories:\n",
    "\n",
    "> * Borrower information: Basic attributes of the borrowers such as annual income, condition of employment, interest rate, loan status, etc.\n",
    "> * Loan performance information: Metrics evaluating the risk associated with the loans such as Prosper score and bank card utilization, etc.\n",
    "\n",
    "> There were some elements that need to be fixed, in order to create interesting and trustworthy analyses and visualizations."
   ]
  },
  {
   "cell_type": "code",
   "execution_count": null,
   "metadata": {
    "slideshow": {
     "slide_type": "skip"
    }
   },
   "outputs": [],
   "source": [
    "# import all packages and set plots to be embedded inline\n",
    "import pandas as pd\n",
    "import numpy as np\n",
    "import seaborn as sb\n",
    "import datetime\n",
    "import matplotlib.pyplot as plt\n",
    "%matplotlib inline\n",
    "\n",
    "# suppress warnings from final output\n",
    "import warnings\n",
    "warnings.simplefilter(\"ignore\")"
   ]
  },
  {
   "cell_type": "code",
   "execution_count": null,
   "metadata": {
    "slideshow": {
     "slide_type": "skip"
    }
   },
   "outputs": [],
   "source": [
    "# load in the dataset into a pandas dataframe\n",
    "loan_data = pd.read_csv('prosperLoanData.csv')"
   ]
  },
  {
   "cell_type": "code",
   "execution_count": null,
   "metadata": {
    "slideshow": {
     "slide_type": "skip"
    }
   },
   "outputs": [],
   "source": [
    "#Selecting relevant columns for this analysis\n",
    "r_columns = ['ListingNumber', 'ListingCreationDate', 'Term', 'LoanStatus', 'BorrowerAPR', 'BorrowerRate', \\\n",
    "            'ProsperRating (Alpha)', 'ProsperScore', 'ListingCategory (numeric)', 'BorrowerState', 'Occupation', \\\n",
    "            'EmploymentStatus', 'IsBorrowerHomeowner', 'CreditScoreRangeLower', 'CreditScoreRangeUpper', \\\n",
    "            'CurrentCreditLines', 'OpenRevolvingAccounts', 'DebtToIncomeRatio', 'IncomeRange', 'IncomeVerifiable', \\\n",
    "            'StatedMonthlyIncome', 'LoanOriginalAmount', 'LoanOriginationDate',]"
   ]
  },
  {
   "cell_type": "code",
   "execution_count": null,
   "metadata": {
    "slideshow": {
     "slide_type": "skip"
    }
   },
   "outputs": [],
   "source": [
    "#Creating a sub dataset of the 'loan_data', 'df'\n",
    "df = loan_data[r_columns]"
   ]
  },
  {
   "cell_type": "code",
   "execution_count": null,
   "metadata": {
    "slideshow": {
     "slide_type": "skip"
    }
   },
   "outputs": [],
   "source": [
    "#dropping rows with null values\n",
    "df = df.dropna()"
   ]
  },
  {
   "cell_type": "code",
   "execution_count": null,
   "metadata": {
    "slideshow": {
     "slide_type": "skip"
    }
   },
   "outputs": [],
   "source": [
    "#renaming specific columns that have spaces in them\n",
    "df.rename(columns={'ProsperRating (Alpha)':'ProsperRating', 'ListingCategory (numeric)':'ListingCategory'}, inplace=True)"
   ]
  },
  {
   "cell_type": "code",
   "execution_count": null,
   "metadata": {
    "slideshow": {
     "slide_type": "skip"
    }
   },
   "outputs": [],
   "source": [
    "#matching the ListingCategory values to their meanings as provided in the context of the dataset\n",
    "list_dict = {0 : 'Not Available', 1 : 'Debt Consolidation', 2 : 'Home Improvement', 3: 'Business', \n",
    "             4 : 'Personal Loan', 5 : 'Student Use', 6 : 'Auto', 7 : 'Other', 8 : 'Baby&Adoption', \n",
    "             9 : 'Boat', 10 : 'Cosmetic Procedure', 11 : 'Engagement Ring', 12 : 'Green Loans',\n",
    "             13 : 'Household Expenses', 14 : 'Large Purchases', 15 : 'Medical/Dental', 16 : 'Motorcycle',\n",
    "             17 : 'RV', 18 : 'Taxes', 19 : 'Vacation', 20 : 'Wedding Loans'}\n",
    "\n",
    "df['ListingCategory'] = df['ListingCategory'].map(list_dict)"
   ]
  },
  {
   "cell_type": "code",
   "execution_count": null,
   "metadata": {
    "slideshow": {
     "slide_type": "skip"
    }
   },
   "outputs": [],
   "source": [
    "#converting columns to the write datatypes\n",
    "df['ListingNumber'] = df['ListingNumber'].astype(str)\n",
    "df['ListingCreationDate'] = pd.to_datetime(df['ListingCreationDate'])\n",
    "df['LoanStatus'] = df['LoanStatus'].astype('category')\n",
    "df['ProsperScore'] = df['ProsperScore'].astype(int)\n",
    "df['CreditScoreRangeLower'] = df['CreditScoreRangeLower'].astype(int)\n",
    "df['CreditScoreRangeUpper'] = df['CreditScoreRangeUpper'].astype(int)\n",
    "df['CurrentCreditLines'] = df['CurrentCreditLines'].astype(int)\n",
    "df['IncomeRange'] = df['IncomeRange'].astype('category')\n",
    "df['LoanOriginationDate'] = pd.to_datetime(df['LoanOriginationDate'])"
   ]
  },
  {
   "cell_type": "code",
   "execution_count": null,
   "metadata": {
    "slideshow": {
     "slide_type": "skip"
    }
   },
   "outputs": [],
   "source": [
    "#converting 'ProsperRating' column to ordinal category type\n",
    "rating = ['AA', 'A', 'B', 'C', 'D', 'E','HR']\n",
    "ordered_var = pd.api.types.CategoricalDtype(ordered = True, categories = rating)\n",
    "df['ProsperRating'] = df['ProsperRating'].astype(ordered_var)"
   ]
  },
  {
   "cell_type": "code",
   "execution_count": null,
   "metadata": {
    "slideshow": {
     "slide_type": "skip"
    }
   },
   "outputs": [],
   "source": [
    "#Extracting date, month and year information from 'ListingCreationDate' column\n",
    "df['Date'] = df['ListingCreationDate'].dt.date\n",
    "df['Month']  = df['ListingCreationDate'].dt.month\n",
    "df['Year'] = df['ListingCreationDate'].dt.year"
   ]
  },
  {
   "cell_type": "code",
   "execution_count": null,
   "metadata": {
    "slideshow": {
     "slide_type": "skip"
    }
   },
   "outputs": [],
   "source": [
    "#dropping 'ListingCreationDate' column\n",
    "df.drop(['ListingCreationDate'], axis=1, inplace=True)"
   ]
  },
  {
   "cell_type": "code",
   "execution_count": null,
   "metadata": {
    "slideshow": {
     "slide_type": "skip"
    }
   },
   "outputs": [],
   "source": [
    "#Converting date column dtype\n",
    "df['Date'] = pd.to_datetime(df['Date'])"
   ]
  },
  {
   "cell_type": "code",
   "execution_count": null,
   "metadata": {
    "slideshow": {
     "slide_type": "skip"
    }
   },
   "outputs": [],
   "source": [
    "#changing the numerical values of the 'Month' column to month names\n",
    "month_dict = {1 : 'January', 2 : 'February', 3: 'March', \n",
    "             4 : 'April', 5 : 'May', 6 : 'June', 7 : 'July', 8 : 'August', \n",
    "             9 : 'September', 10 : 'October', 11 : 'November', 12 : 'December'}\n",
    "\n",
    "df['Month'] = df['Month'].map(month_dict)"
   ]
  },
  {
   "cell_type": "code",
   "execution_count": null,
   "metadata": {
    "slideshow": {
     "slide_type": "skip"
    }
   },
   "outputs": [],
   "source": [
    "#creating a new column 'CreditScoreAverage' by getting an average of the credit scores provided\n",
    "df['CreditScoreAverage'] = (df['CreditScoreRangeUpper'] + df['CreditScoreRangeLower'])/2"
   ]
  },
  {
   "cell_type": "code",
   "execution_count": null,
   "metadata": {
    "slideshow": {
     "slide_type": "skip"
    }
   },
   "outputs": [],
   "source": [
    "#Feature engineering of a new column 'Term_yrs' from 'Term' to convert the term in months to years\n",
    "df['Term_yrs'] = df['Term']/12\n",
    "df['Term_yrs'] = df['Term_yrs'].astype(int)"
   ]
  },
  {
   "cell_type": "code",
   "execution_count": null,
   "metadata": {
    "slideshow": {
     "slide_type": "skip"
    }
   },
   "outputs": [],
   "source": [
    "# define a classification function\n",
    "def classify(income):\n",
    "    if income[\"StatedMonthlyIncome\"]<2500:\n",
    "        return 'Low'\n",
    "    if income[\"StatedMonthlyIncome\"]<8000:\n",
    "        return 'Medium'\n",
    "    else:\n",
    "        return 'High'\n",
    "    \n",
    "df['IncomeGroup'] = df.apply(classify, axis=1)\n",
    "\n",
    "# convert string to ordinal category type\n",
    "income_order = ['Low', 'Medium', 'High']\n",
    "income_ordered_variable = pd.api.types.CategoricalDtype(ordered = True, categories = income_order)\n",
    "df['IncomeGroup'] = df['IncomeGroup'].astype(income_ordered_variable)"
   ]
  },
  {
   "cell_type": "markdown",
   "metadata": {
    "slideshow": {
     "slide_type": "notes"
    }
   },
   "source": [
    "> Note that the above cells have been set as \"Skip\"-type slides. That means\n",
    "that when the notebook is rendered as http slides, those cells won't show up."
   ]
  },
  {
   "cell_type": "markdown",
   "metadata": {
    "collapsed": true,
    "slideshow": {
     "slide_type": "slide"
    }
   },
   "source": [
    "## Loan Original Amount Distribution\n",
    "There are 3 peaks of the Loan Original Amount, at 4k, 10k and 15k. These 3 loan amounts are the most common loan amounts borrowed with 4k being the highest"
   ]
  },
  {
   "cell_type": "code",
   "execution_count": null,
   "metadata": {
    "slideshow": {
     "slide_type": "subslide"
    }
   },
   "outputs": [],
   "source": [
    "color_base = sb.color_palette()[2]\n",
    "log_binsize = 0.025\n",
    "bins_log = 10 ** np.arange(3, np.log10(df['LoanOriginalAmount'].max())+0.025, 0.025)\n",
    "plt.figure(figsize=(14,8))\n",
    "plt.hist(data = df, x = 'LoanOriginalAmount', bins = bins_log, color=color_base)\n",
    "plt.xscale('log')\n",
    "x_ticks = [1000, 2000, 3000, 4000, 5000, 10000, 15000,20000, 30000]\n",
    "x_ticks_names = ['1k','2k', '3k', '4k', '5k', '10k','15k', '20k','30k']\n",
    "plt.xticks(x_ticks, x_ticks_names)\n",
    "plt.xlim((1000,35000))\n",
    "plt.xlabel('Loan Original Amount ($)')\n",
    "plt.title('Distribution of Loan Original Amount ($)');"
   ]
  },
  {
   "cell_type": "markdown",
   "metadata": {
    "slideshow": {
     "slide_type": "slide"
    }
   },
   "source": [
    "## Loan Status Distribution\n",
    "\n",
    "67.1% of the loan payments are current, 23.2% are completed. That puts approximately 80% of the loans in the dataset in good profiles. Only 2.4% of the loans that were grouped together are past due and 1.2% of them defaulted. "
   ]
  },
  {
   "cell_type": "code",
   "execution_count": null,
   "metadata": {
    "slideshow": {
     "slide_type": "skip"
    }
   },
   "outputs": [],
   "source": [
    "# Collapsing Past Due loans \n",
    "df['LoanStatus'] = df['LoanStatus'].apply(lambda x: x if 'Past Due' not in x else 'Past Due')\n",
    "\n",
    "# Convert LoanStatus to a categorical variable\n",
    "status_dict = ['Defaulted','Chargedoff', 'Past Due', 'Current', 'FinalPaymentInProgress', 'Completed']\n",
    "\n",
    "loan_status_order = pd.api.types.CategoricalDtype(ordered = True, categories = status_dict)\n",
    "\n",
    "df['LoanStatus'] = df['LoanStatus'].astype(loan_status_order)"
   ]
  },
  {
   "cell_type": "code",
   "execution_count": null,
   "metadata": {
    "slideshow": {
     "slide_type": "subslide"
    }
   },
   "outputs": [],
   "source": [
    "# Printing the proportion above the bars \n",
    "n_loans=df['LoanStatus'].value_counts().sum()\n",
    "status_count=df['LoanStatus'].value_counts()\n",
    "status_order=status_count.index\n",
    "\n",
    "plt.figure(figsize=(14,8))\n",
    "sb.countplot(data=df, x='LoanStatus', color=color_base, order=status_order);\n",
    "\n",
    "plt.xlabel('Count')\n",
    "plt.ylabel('Loan Status')\n",
    "plt.title('Loan Status Distribution')\n",
    "\n",
    "# getting the current tick locations and labels\n",
    "locs, labels = plt.xticks(rotation=0) \n",
    "\n",
    "# looping through each pair of locations and labels\n",
    "for loc, label in zip(locs, labels):\n",
    "    # getting the text property for the label to get the correct count\n",
    "    count = status_count[label.get_text()]\n",
    "    pct_string = '{:0.1f}%'.format(100*count/n_loans)\n",
    "\n",
    "    # printing the annotation just below the top of the bar\n",
    "    plt.text(loc, count+2, pct_string, ha = 'center', color = 'black')"
   ]
  },
  {
   "cell_type": "markdown",
   "metadata": {
    "slideshow": {
     "slide_type": "slide"
    }
   },
   "source": [
    "## Relationship Between Borrower Rate and Employment Status\n",
    "\n",
    "Borrowers with full time jobs and with a stable source of income (Employed, Full-time, SElf-employed), had lower interest loans that others. There is only one unemployed borrower in the dataset, and that person has a very high interest rate compared to most of the borrowers."
   ]
  },
  {
   "cell_type": "code",
   "execution_count": null,
   "metadata": {
    "slideshow": {
     "slide_type": "subslide"
    }
   },
   "outputs": [],
   "source": [
    "plt.figure(figsize=(14,8))\n",
    "\n",
    "sb.boxplot(x='EmploymentStatus', y='BorrowerRate', data=df, color=color_base)\n",
    "plt.xticks(rotation=15)\n",
    "\n",
    "plt.xlabel('Employment Status')\n",
    "plt.ylabel('Borrower Rate(%)')\n",
    "plt.title('Relationship Between Borrower Rate and Employment Status');"
   ]
  },
  {
   "cell_type": "markdown",
   "metadata": {
    "slideshow": {
     "slide_type": "slide"
    }
   },
   "source": [
    "## Relationship Between Borrower Rate and Home Owner Status\n",
    "\n",
    "Borrowers who are homeowners and possibly use those homes as collateral have a lower interest rate than borrowers who do not have homes."
   ]
  },
  {
   "cell_type": "code",
   "execution_count": null,
   "metadata": {
    "slideshow": {
     "slide_type": "subslide"
    }
   },
   "outputs": [],
   "source": [
    "plt.figure(figsize=(14,8))\n",
    "\n",
    "sb.boxplot(x='IsBorrowerHomeowner', y='BorrowerRate', data=df, color=color_base)\n",
    "plt.xlabel('Home Owner Status')\n",
    "plt.ylabel('Borrower Rate(%)')\n",
    "plt.title('Relationship Between Borrower Rate and Home Owner Status');"
   ]
  },
  {
   "cell_type": "markdown",
   "metadata": {
    "slideshow": {
     "slide_type": "slide"
    }
   },
   "source": [
    "## Relationship Between Borrower Rate and Income Group\n",
    "\n",
    "There is a negative correlation between the income groups of the borrowers and the interest rate on the loans they take out. The high income group have the lowest loan interest rate, and the low income group have the highest interest rate."
   ]
  },
  {
   "cell_type": "code",
   "execution_count": null,
   "metadata": {
    "slideshow": {
     "slide_type": "subslide"
    }
   },
   "outputs": [],
   "source": [
    "plt.figure(figsize=(14,8))\n",
    "\n",
    "sb.boxplot(x='IncomeGroup', y='BorrowerRate', data=df, color=color_base)\n",
    "plt.xlabel('Income Group')\n",
    "plt.ylabel('Borrower Rate(%)')\n",
    "plt.title('Relationship Between Borrower Rate and Income Group');"
   ]
  },
  {
   "cell_type": "markdown",
   "metadata": {
    "slideshow": {
     "slide_type": "slide"
    }
   },
   "source": [
    "## Relationship Between Borrower Rate and Prosper Score, Rating\n",
    "\n",
    "Either the Prosper Score or Prosper Rating is a really good determinant of the loan interest rate. The higher the Prosper Score, the lower the interest rate on the loans. Higher Prosper Ratings are also associated with lower loan interest rates."
   ]
  },
  {
   "cell_type": "code",
   "execution_count": null,
   "metadata": {
    "slideshow": {
     "slide_type": "subslide"
    }
   },
   "outputs": [],
   "source": [
    "#define violin function\n",
    "def violin(var, color):\n",
    "    fig, ax = plt.subplots(ncols = 2, figsize = [14, 8])\n",
    "    sb.violinplot(data = df, y = var, x = 'ProsperScore', ax = ax[0],\n",
    "                  color = color)\n",
    "    ax[0].set_xlabel(\"Prosper Score\")\n",
    "    ax[0].set_ylabel(var.capitalize())\n",
    "    sb.violinplot(data = df, y = var, x = 'ProsperRating', ax = ax[1],\n",
    "               color = color)\n",
    "\n",
    "    ax[1].set_xlabel(\"Prosper Rating\")\n",
    "    ax[1].set_ylabel(\"\")\n",
    "    fig.suptitle('Relationship between Borrower Rate and Prosper Score, Prosper Rating')\n",
    "    plt.show()\n",
    "    \n",
    "violin('BorrowerRate', sb.color_palette()[2])"
   ]
  },
  {
   "cell_type": "markdown",
   "metadata": {
    "slideshow": {
     "slide_type": "slide"
    }
   },
   "source": [
    "## Relationship Between Loan Amount And Income Group, Employment Status\n",
    "\n",
    "Borrowers who are steadily employed(Employed, Full-time, Self-employed) and who are in high income groups have access to higher amounts for loans"
   ]
  },
  {
   "cell_type": "code",
   "execution_count": null,
   "metadata": {
    "slideshow": {
     "slide_type": "subslide"
    }
   },
   "outputs": [],
   "source": [
    "#define violin function\n",
    "def boxgrid(var, color):\n",
    "    fig, ax = plt.subplots(ncols = 2, figsize = [14,8])\n",
    "    sb.boxplot(data = df, y = var, x = 'IncomeGroup', ax = ax[0],\n",
    "                  color = color)\n",
    "    ax[0].set_xlabel(\"Income Group\",fontsize=20)\n",
    "    ax[0].set_ylabel(var.capitalize(), fontsize=20)\n",
    "    sb.boxplot(data = df, y = var, x = 'EmploymentStatus', ax = ax[1],\n",
    "               color = color)\n",
    "    ax[1].set_xlabel(\"Employment Status\",fontsize=20)\n",
    "    ax[1].set_ylabel(\"\")\n",
    "    plt.xticks(rotation=45)\n",
    "    fig.suptitle('Relationship between Loan Amount and Income Group, Employment status', fontsize=30)\n",
    "    plt.show()\n",
    "    \n",
    "boxgrid('LoanOriginalAmount', sb.color_palette()[2])"
   ]
  },
  {
   "cell_type": "markdown",
   "metadata": {
    "slideshow": {
     "slide_type": "slide"
    }
   },
   "source": [
    "## Relationship Between Loan Amount And Home Owner Status\n",
    "\n",
    "Borrowers who are home owners have access to higher amounts of loans, that those who do not own homes"
   ]
  },
  {
   "cell_type": "code",
   "execution_count": null,
   "metadata": {
    "slideshow": {
     "slide_type": "subslide"
    }
   },
   "outputs": [],
   "source": [
    "plt.figure(figsize=(14,8))\n",
    "\n",
    "sb.boxplot(x='IsBorrowerHomeowner', y='LoanOriginalAmount', data=df, color=color_base)\n",
    "plt.xlabel('Home Owner Status')\n",
    "plt.ylabel('Loan Original Amount ($)')\n",
    "plt.title('Relationship Between Loan Amount And Home Owner Status');"
   ]
  },
  {
   "cell_type": "markdown",
   "metadata": {
    "slideshow": {
     "slide_type": "slide"
    }
   },
   "source": [
    "## Borrower Rate and Average Credit Score by Loan Payment Status\n",
    "\n",
    "For people who are delinquent (defaulted,past due, charged-off payments), banks applies more restricted credit conditions (higher interest rates). Also these people have lower credit scores than people with good status."
   ]
  },
  {
   "cell_type": "code",
   "execution_count": null,
   "metadata": {
    "slideshow": {
     "slide_type": "skip"
    }
   },
   "outputs": [],
   "source": [
    "#Create a new column which return 1 for good status of payment('Current','Completed','FinalPaymentInProgress') \n",
    "# and 0 if there is an issue (defaulted,past due, charged-off payments)\n",
    "\n",
    "status_good=['Current','Completed','FinalPaymentInProgress']\n",
    "def cat_Loanstatus(row):\n",
    "    for i in status_good:\n",
    "        if i in row:\n",
    "            return 1\n",
    "    return 0\n",
    "df[\"loanstatus_cat\"] = df['LoanStatus'].apply(lambda x: cat_Loanstatus(x))"
   ]
  },
  {
   "cell_type": "code",
   "execution_count": null,
   "metadata": {
    "slideshow": {
     "slide_type": "skip"
    }
   },
   "outputs": [],
   "source": [
    "status = df.groupby('loanstatus_cat').agg({'CreditScoreAverage':'mean','BorrowerRate':'mean'})\n",
    "status = status.reset_index()\n",
    "status[\"loanstatus_cat\"].replace({0: \"Delinquent\", 1: \"Good\"}, inplace=True)\n",
    "status = status.sort_values(['CreditScoreAverage'],ascending=False).head(10)\n",
    "status"
   ]
  },
  {
   "cell_type": "code",
   "execution_count": null,
   "metadata": {
    "slideshow": {
     "slide_type": "subslide"
    }
   },
   "outputs": [],
   "source": [
    "# Create a figure\n",
    "fig = plt.figure(figsize=(14,8))\n",
    "# Create matplotlib axes\n",
    "ax = fig.add_subplot(111)\n",
    "# Create another axes \n",
    "ax2 = ax.twinx()\n",
    "\n",
    "width = 0.20\n",
    "CreditScore_average = status.plot(x='loanstatus_cat', y='CreditScoreAverage', kind='bar', color = 'green',\n",
    "                   width=width,ax=ax, position = 0, label = 'Average CreditScore')\n",
    "BorrowerRate = status.plot(x='loanstatus_cat', y='BorrowerRate', kind='bar', color = 'orange',\n",
    "                  width=width,ax=ax2, position = 1,  label = 'Borrower Rate')\n",
    "\n",
    "ax.set_ylabel('Credit Score Average')\n",
    "CreditScore_average.legend(loc='upper right')\n",
    "ax2.set_ylabel('Borrower Rate')\n",
    "ax2.legend(loc='upper left')\n",
    "ax.set_xlabel('Loan Status categories')\n",
    "plt.title('Borrower Rate and Average Credit Score by Delinquency Status');"
   ]
  },
  {
   "cell_type": "markdown",
   "metadata": {
    "slideshow": {
     "slide_type": "slide"
    }
   },
   "source": [
    "## Borrower Rate by Prosper Rating and Loan Terms\n",
    "\n",
    "The lower the loan term, the lower the interest rate on the loan. As observed earlier, the better the Prosper Rating, the lower the interest rate on the loans. It should also be noted that HR, the least Prosper Rating has only 3 years loan terms."
   ]
  },
  {
   "cell_type": "code",
   "execution_count": null,
   "metadata": {
    "slideshow": {
     "slide_type": "subslide"
    }
   },
   "outputs": [],
   "source": [
    "fig = plt.figure(figsize = [14,8])\n",
    "ax = sb.pointplot(data = df, x = 'ProsperRating', y = 'BorrowerRate', hue = 'Term_yrs',\n",
    "           palette = 'Greens', linestyles = '',dodge = 0.4, ci='sd')\n",
    "plt.xlabel('Prosper Rating')\n",
    "plt.ylabel('Borrower Rate(%)')\n",
    "plt.title('Borrower Rate vs. Prosper Rating by Loan Term in Years');"
   ]
  },
  {
   "cell_type": "markdown",
   "metadata": {
    "slideshow": {
     "slide_type": "slide"
    }
   },
   "source": [
    "## Loan Amount by Home Owner Status and Income Group\n",
    "\n",
    "As shown in the previous slides, having a collateral and a higher wage help getting higher loan amount. It is clearly visible that being a home owner is a very important element to get a higher loan amount."
   ]
  },
  {
   "cell_type": "code",
   "execution_count": null,
   "metadata": {
    "slideshow": {
     "slide_type": "subslide"
    }
   },
   "outputs": [],
   "source": [
    "plt.figure(figsize = [14,8])\n",
    "sb.boxplot(data = df, x = 'IncomeGroup', y = 'LoanOriginalAmount', hue = 'IsBorrowerHomeowner', color = color_base)\n",
    "plt.xlabel('Home Owner Status')\n",
    "plt.ylabel('Loan Original Amount ($)')\n",
    "plt.title('Loan Amount vs. Income Group by Home Owner Status');"
   ]
  },
  {
   "cell_type": "markdown",
   "metadata": {
    "slideshow": {
     "slide_type": "slide"
    }
   },
   "source": [
    "# Thank You For Your Attention"
   ]
  },
  {
   "cell_type": "code",
   "execution_count": null,
   "metadata": {
    "scrolled": true,
    "slideshow": {
     "slide_type": "skip"
    }
   },
   "outputs": [],
   "source": [
    "!jupyter nbconvert Part_II_slide_deck_template.ipynb --to slides --post serve  --no-input --no-prompt"
   ]
  }
 ],
 "metadata": {
  "celltoolbar": "Slideshow",
  "kernelspec": {
   "display_name": "Python 3 (ipykernel)",
   "language": "python",
   "name": "python3"
  },
  "language_info": {
   "codemirror_mode": {
    "name": "ipython",
    "version": 3
   },
   "file_extension": ".py",
   "mimetype": "text/x-python",
   "name": "python",
   "nbconvert_exporter": "python",
   "pygments_lexer": "ipython3",
   "version": "3.9.12"
  }
 },
 "nbformat": 4,
 "nbformat_minor": 2
}
